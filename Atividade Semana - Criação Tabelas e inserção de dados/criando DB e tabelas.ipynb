{
 "cells": [
  {
   "cell_type": "code",
   "execution_count": 1,
   "metadata": {},
   "outputs": [],
   "source": [
    "import psycopg2"
   ]
  },
  {
   "cell_type": "code",
   "execution_count": 2,
   "metadata": {},
   "outputs": [],
   "source": [
    "# conecta ao banco de dados\n",
    "conn = psycopg2.connect(\n",
    "    dbname=\"ecommerce\",\n",
    "    user=\"postgres\",\n",
    "    password=\"********\",\n",
    "    host=\"localhost\",\n",
    "    port=\"5432\"\n",
    "    )"
   ]
  },
  {
   "cell_type": "code",
   "execution_count": 3,
   "metadata": {},
   "outputs": [],
   "source": [
    "cur = conn.cursor()"
   ]
  },
  {
   "cell_type": "code",
   "execution_count": 4,
   "metadata": {},
   "outputs": [],
   "source": [
    "create_table_query = '''\n",
    "CREATE TABLE Clientes (\n",
    "            ID_Cliente SERIAL PRIMARY KEY,\n",
    "            Nome VARCHAR(100),\n",
    "            Endereco TEXT,\n",
    "            Telefone VARCHAR(20),\n",
    "            Email VARCHAR(100),\n",
    "            Data_Nascimento DATE\n",
    ");\n",
    "\n",
    "CREATE TABLE Produtos (\n",
    "            ID_Produto SERIAL PRIMARY KEY,\n",
    "            Nome VARCHAR(100),\n",
    "            Descricao TEXT,\n",
    "            Preco DECIMAL(10, 2),\n",
    "            Quantidade_Estoque INT\n",
    "        );\n",
    "\n",
    "CREATE TABLE Pedidos (\n",
    "            ID_Pedido SERIAL PRIMARY KEY,\n",
    "            Data_Pedido TIMESTAMP,\n",
    "            Status VARCHAR(20),\n",
    "            Valor_Total DECIMAL(10, 2),\n",
    "            ID_Cliente INT,\n",
    "            FOREIGN KEY (ID_Cliente) REFERENCES Clientes(ID_Cliente)\n",
    "        );\n",
    "\n",
    "CREATE TABLE Itens_Pedido (\n",
    "            ID_Item SERIAL PRIMARY KEY,\n",
    "            Quantidade INT,\n",
    "            Preco_Unitario DECIMAL(10, 2),\n",
    "            Subtotal DECIMAL(10, 2),\n",
    "            ID_Pedido INT,\n",
    "            ID_Produto INT,\n",
    "            FOREIGN KEY (ID_Pedido) REFERENCES Pedidos(ID_Pedido),\n",
    "            FOREIGN KEY (ID_Produto) REFERENCES Produtos(ID_Produto)\n",
    "        );     \n",
    "\n",
    "CREATE TABLE Pagamentos (\n",
    "            ID_Pagamento SERIAL PRIMARY KEY,\n",
    "            Data_Pagamento TIMESTAMP,\n",
    "            Valor_Pago DECIMAL(10, 2),\n",
    "            Metodo_Pagamento VARCHAR(50),\n",
    "            ID_Pedido INT,\n",
    "            FOREIGN KEY (ID_Pedido) REFERENCES Pedidos(ID_Pedido)\n",
    "        );                       \n",
    "'''"
   ]
  },
  {
   "cell_type": "code",
   "execution_count": 6,
   "metadata": {},
   "outputs": [
    {
     "ename": "InFailedSqlTransaction",
     "evalue": "ERRO:  transação atual foi interrompida, comandos ignorados até o fim do bloco de transação\n",
     "output_type": "error",
     "traceback": [
      "\u001b[1;31m---------------------------------------------------------------------------\u001b[0m",
      "\u001b[1;31mInFailedSqlTransaction\u001b[0m                    Traceback (most recent call last)",
      "Cell \u001b[1;32mIn[6], line 1\u001b[0m\n\u001b[1;32m----> 1\u001b[0m \u001b[43mcur\u001b[49m\u001b[38;5;241;43m.\u001b[39;49m\u001b[43mexecute\u001b[49m\u001b[43m(\u001b[49m\u001b[43mcreate_table_query\u001b[49m\u001b[43m)\u001b[49m\n\u001b[0;32m      2\u001b[0m conn\u001b[38;5;241m.\u001b[39mcommit()\n\u001b[0;32m      3\u001b[0m \u001b[38;5;28mprint\u001b[39m(\u001b[38;5;124m\"\u001b[39m\u001b[38;5;124mTabela DB_ecommerce criada com sucesso.\u001b[39m\u001b[38;5;124m\"\u001b[39m)\n",
      "\u001b[1;31mInFailedSqlTransaction\u001b[0m: ERRO:  transação atual foi interrompida, comandos ignorados até o fim do bloco de transação\n"
     ]
    }
   ],
   "source": [
    "cur.execute(create_table_query)\n",
    "conn.commit()\n",
    "print(\"Tabela DB_ecommerce criada com sucesso.\")\n",
    "cur.close()"
   ]
  }
 ],
 "metadata": {
  "kernelspec": {
   "display_name": "Python 3",
   "language": "python",
   "name": "python3"
  },
  "language_info": {
   "codemirror_mode": {
    "name": "ipython",
    "version": 3
   },
   "file_extension": ".py",
   "mimetype": "text/x-python",
   "name": "python",
   "nbconvert_exporter": "python",
   "pygments_lexer": "ipython3",
   "version": "3.11.9"
  }
 },
 "nbformat": 4,
 "nbformat_minor": 2
}
